{
 "cells": [
  {
   "cell_type": "code",
   "execution_count": 11,
   "metadata": {},
   "outputs": [],
   "source": [
    "from IPython.display import clear_output\n",
    "clear_output()"
   ]
  },
  {
   "cell_type": "code",
   "execution_count": 12,
   "metadata": {},
   "outputs": [],
   "source": [
    "board = ['1','2','3',\n",
    "        '4','5','6',\n",
    "        '7','8','9']\n",
    "\n",
    "def show_board(board):\n",
    "    print(board[0]+ '|' +board[1]+ '|' +board[2])\n",
    "    print(\"-+-+-\")\n",
    "    print(board[3]+ '|' +board[4]+ '|' +board[5])\n",
    "    print(\"-+-+-\")\n",
    "    print(board[6]+ '|' +board[7]+ '|' +board[8])"
   ]
  },
  {
   "cell_type": "code",
   "execution_count": 7,
   "metadata": {},
   "outputs": [
    {
     "name": "stdout",
     "output_type": "stream",
     "text": [
      "1|2|3\n",
      "-+-+-\n",
      "4|5|6\n",
      "-+-+-\n",
      "7|8|9\n"
     ]
    }
   ],
   "source": [
    "show_board(board)"
   ]
  },
  {
   "cell_type": "code",
   "execution_count": 13,
   "metadata": {},
   "outputs": [],
   "source": [
    "def player_choose():\n",
    "    \n",
    "    choice = 'Invalid'\n",
    "\n",
    "    while not (choice == 'X' or choice == 'O'):\n",
    "        choice = input(\"Please choose X or O:\").upper()\n",
    "    \n",
    "        if choice not in ['X','x','O','o']:\n",
    "            clear_output()\n",
    "            print(\"Sorry wrong choice please enter a valid choice\")\n",
    "        if choice == 'X':\n",
    "            return 'X','O'\n",
    "        else:\n",
    "            return 'O','X'\n"
   ]
  },
  {
   "cell_type": "code",
   "execution_count": 14,
   "metadata": {},
   "outputs": [],
   "source": [
    "def position_choice():\n",
    "    pos_choice = 'Invalid'\n",
    "    \n",
    "    while pos_choice not in [1,2,3,4,5,6,7,8,9]:\n",
    "        pos_choice = input(\"Please enter the number between (1-9):\") \n",
    "        \n",
    "        if pos_choice not in board_pos:\n",
    "            clear_output()\n",
    "            print(\"Position invalid. Please enter the correct number.\")\n",
    "    \n",
    "    return(int(pos_choice))"
   ]
  },
  {
   "cell_type": "code",
   "execution_count": null,
   "metadata": {},
   "outputs": [],
   "source": [
    "position_choice()"
   ]
  },
  {
   "cell_type": "code",
   "execution_count": 15,
   "metadata": {},
   "outputs": [],
   "source": [
    "def player_turn():\n",
    "    if player_choose()=='X':\n",
    "        return 'Player1'\n",
    "    else:\n",
    "        return 'Player2'"
   ]
  },
  {
   "cell_type": "code",
   "execution_count": null,
   "metadata": {
    "code_folding": []
   },
   "outputs": [],
   "source": [
    "def win_check():\n",
    "    pass"
   ]
  },
  {
   "cell_type": "code",
   "execution_count": null,
   "metadata": {},
   "outputs": [],
   "source": []
  },
  {
   "cell_type": "code",
   "execution_count": null,
   "metadata": {},
   "outputs": [],
   "source": []
  },
  {
   "cell_type": "code",
   "execution_count": null,
   "metadata": {},
   "outputs": [],
   "source": []
  },
  {
   "cell_type": "code",
   "execution_count": null,
   "metadata": {},
   "outputs": [],
   "source": []
  },
  {
   "cell_type": "code",
   "execution_count": null,
   "metadata": {},
   "outputs": [],
   "source": [
    "\n",
    "    "
   ]
  },
  {
   "cell_type": "code",
   "execution_count": 16,
   "metadata": {},
   "outputs": [
    {
     "name": "stdout",
     "output_type": "stream",
     "text": [
      "TIC-TAC-TOE GAME\n",
      "Please choose X or O:x\n",
      "Please choose X or O:X\n"
     ]
    }
   ],
   "source": [
    "print(\"TIC-TAC-TOE GAME\")\n",
    "\n",
    "while True:\n",
    "    board = [' ']*10\n",
    "    show_board()\n",
    "    player1,player2 = player_choose()\n",
    "    turn = player_turn()\n",
    "    break"
   ]
  },
  {
   "cell_type": "code",
   "execution_count": null,
   "metadata": {},
   "outputs": [],
   "source": []
  }
 ],
 "metadata": {
  "kernelspec": {
   "display_name": "Python 3",
   "language": "python",
   "name": "python3"
  },
  "language_info": {
   "codemirror_mode": {
    "name": "ipython",
    "version": 3
   },
   "file_extension": ".py",
   "mimetype": "text/x-python",
   "name": "python",
   "nbconvert_exporter": "python",
   "pygments_lexer": "ipython3",
   "version": "3.7.6"
  },
  "toc": {
   "base_numbering": 1,
   "nav_menu": {},
   "number_sections": true,
   "sideBar": true,
   "skip_h1_title": false,
   "title_cell": "Table of Contents",
   "title_sidebar": "Contents",
   "toc_cell": false,
   "toc_position": {},
   "toc_section_display": true,
   "toc_window_display": false
  }
 },
 "nbformat": 4,
 "nbformat_minor": 4
}
