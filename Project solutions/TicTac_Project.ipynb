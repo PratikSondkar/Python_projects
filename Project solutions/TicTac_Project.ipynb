{
 "cells": [
  {
   "cell_type": "code",
   "execution_count": 1,
   "metadata": {},
   "outputs": [],
   "source": [
    "board = ['1','2','3',\n",
    "           '4','5','6',\n",
    "           '7','8','9']\n",
    "\n",
    "def show_board(board):\n",
    "    print(board[0]+'|'+board[1]+'|'+board[2]+'|')\n",
    "    print(\" + + + \")\n",
    "    print(board[3]+'|'+board[4]+'|'+board[5]+'|')\n",
    "    print(\" + + + \")\n",
    "    print(board[6]+'|'+board[7]+'|'+board[8]+'|')"
   ]
  },
  {
   "cell_type": "code",
   "execution_count": 2,
   "metadata": {},
   "outputs": [
    {
     "name": "stdout",
     "output_type": "stream",
     "text": [
      "1|2|3|\n",
      " + + + \n",
      "4|5|6|\n",
      " + + + \n",
      "7|8|9|\n"
     ]
    }
   ],
   "source": [
    "show_board(board)"
   ]
  },
  {
   "cell_type": "code",
   "execution_count": 1,
   "metadata": {},
   "outputs": [],
   "source": [
    "def player_choose():\n",
    "    \n",
    "    choice = 'Invalid'\n",
    "    \n",
    "    while choice not in ['x','X','o','O']:\n",
    "        choice = input(\"Please choose X or O:\")\n",
    "    \n",
    "        if choice not in ['x','X','o','O']:\n",
    "            print(\"Sorry wrong choice please enter a valid choice\")\n",
    "         \n",
    "    return(choice)"
   ]
  },
  {
   "cell_type": "code",
   "execution_count": 2,
   "metadata": {},
   "outputs": [
    {
     "name": "stdout",
     "output_type": "stream",
     "text": [
      "Please choose X or O:x\n"
     ]
    }
   ],
   "source": [
    "choice  = player_choose()"
   ]
  },
  {
   "cell_type": "code",
   "execution_count": 3,
   "metadata": {},
   "outputs": [
    {
     "data": {
      "text/plain": [
       "'x'"
      ]
     },
     "execution_count": 3,
     "metadata": {},
     "output_type": "execute_result"
    }
   ],
   "source": [
    "choice"
   ]
  },
  {
   "cell_type": "code",
   "execution_count": null,
   "metadata": {},
   "outputs": [],
   "source": []
  }
 ],
 "metadata": {
  "kernelspec": {
   "display_name": "Python 3",
   "language": "python",
   "name": "python3"
  },
  "language_info": {
   "codemirror_mode": {
    "name": "ipython",
    "version": 3
   },
   "file_extension": ".py",
   "mimetype": "text/x-python",
   "name": "python",
   "nbconvert_exporter": "python",
   "pygments_lexer": "ipython3",
   "version": "3.7.1"
  },
  "toc": {
   "base_numbering": 1,
   "nav_menu": {},
   "number_sections": true,
   "sideBar": true,
   "skip_h1_title": false,
   "title_cell": "Table of Contents",
   "title_sidebar": "Contents",
   "toc_cell": false,
   "toc_position": {},
   "toc_section_display": true,
   "toc_window_display": false
  }
 },
 "nbformat": 4,
 "nbformat_minor": 4
}
